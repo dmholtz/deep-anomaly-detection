{
 "cells": [
  {
   "cell_type": "markdown",
   "source": [
    "# AURSAD Reporting Tool\n",
    "Generates reports by summarizing individual features of the dataset for each category."
   ],
   "metadata": {}
  },
  {
   "cell_type": "code",
   "execution_count": 1,
   "source": [
    "import numpy as np\n",
    "import pandas as pd\n",
    "import matplotlib.pyplot as plt\n",
    "\n",
    "import os"
   ],
   "outputs": [],
   "metadata": {}
  },
  {
   "cell_type": "code",
   "execution_count": 2,
   "source": [
    "input_file = \"AURSAD_selected.h5\"\n",
    "\n",
    "# get the working directory of the ipykernel\n",
    "working_dir = os.getcwd()\n",
    "\n",
    "# define subdirectories\n",
    "data_path = os.path.join(working_dir, \"data\")\n",
    "input_path = os.path.join(data_path, input_file)"
   ],
   "outputs": [],
   "metadata": {}
  },
  {
   "cell_type": "code",
   "execution_count": 3,
   "source": [
    "df = pd.read_hdf(input_path)"
   ],
   "outputs": [],
   "metadata": {}
  },
  {
   "cell_type": "code",
   "execution_count": 4,
   "source": [
    "columns = list(df.columns)\n",
    "features = columns\n",
    "features.remove(\"sample_nr\")\n",
    "features.remove(\"label\")"
   ],
   "outputs": [],
   "metadata": {}
  },
  {
   "cell_type": "code",
   "execution_count": null,
   "source": [
    "def report(feature):\n",
    "\n",
    "    columns = [\"sample_nr\", \"label\"]\n",
    "    columns.append(feature)\n",
    "    sub = df[columns]\n",
    "\n",
    "    fig, axs = plt.subplots(5, figsize=(12, 18))\n",
    "\n",
    "    def show_label(label, ax, times=10):\n",
    "\n",
    "        count = 0\n",
    "        for idx, gb_df in sub.groupby([\"sample_nr\", \"label\"]):\n",
    "\n",
    "            if idx[1] != label:\n",
    "                continue\n",
    "            data = gb_df[columns[-1]].to_numpy()\n",
    "\n",
    "            if count < times:\n",
    "                ax.plot(data)\n",
    "                count+=1\n",
    "            else:\n",
    "                break\n",
    "\n",
    "        ax.set_title(f'Label {label}')\n",
    "\n",
    "    for label, ax in enumerate(axs):\n",
    "        show_label(label, ax)\n",
    "    \n",
    "    fig.suptitle(feature, fontsize=\"x-large\")\n",
    "\n",
    "    fig.savefig(f'reports/{feature}.jpg')\n",
    "\n",
    "report('actual_TCP_force_0')"
   ],
   "outputs": [],
   "metadata": {}
  },
  {
   "cell_type": "code",
   "execution_count": null,
   "source": [
    "for f in features:\n",
    "    report(f)"
   ],
   "outputs": [],
   "metadata": {}
  }
 ],
 "metadata": {
  "kernelspec": {
   "name": "python3",
   "display_name": "Python 3.8.10 64-bit ('m1tf': conda)"
  },
  "language_info": {
   "codemirror_mode": {
    "name": "ipython",
    "version": 3
   },
   "file_extension": ".py",
   "mimetype": "text/x-python",
   "name": "python",
   "nbconvert_exporter": "python",
   "pygments_lexer": "ipython3",
   "version": "3.8.10"
  },
  "interpreter": {
   "hash": "96ba8bdb9944f4077aea7f2f55699da4fa58fb876a32e9ef6c1a749faec584e6"
  }
 },
 "nbformat": 4,
 "nbformat_minor": 5
}