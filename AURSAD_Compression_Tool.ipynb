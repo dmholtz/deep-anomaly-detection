{
 "cells": [
  {
   "cell_type": "markdown",
   "source": [
    "# AURSAD Compression Tool\n",
    "Reduces the initial size of the AURSAD dataframe by removing columns which will definitely not be relevant for the analysis."
   ],
   "metadata": {}
  },
  {
   "cell_type": "code",
   "execution_count": 2,
   "source": [
    "import numpy as np\n",
    "import pandas as pd\n",
    "\n",
    "import os\n",
    "from pathlib import Path"
   ],
   "outputs": [],
   "metadata": {}
  },
  {
   "cell_type": "code",
   "execution_count": 3,
   "source": [
    "input_file = \"AURSAD.h5\"\n",
    "output_file= \"AURSAD_selected.h5\"\n",
    "\n",
    "# get the working directory of the ipykernel\n",
    "working_dir = os.getcwd()\n",
    "\n",
    "# define subdirectories\n",
    "data_path = os.path.join(working_dir, \"data\")\n",
    "input_path = os.path.join(data_path, input_file)\n",
    "output_path = os.path.join(data_path, output_file)"
   ],
   "outputs": [],
   "metadata": {}
  },
  {
   "cell_type": "code",
   "execution_count": 4,
   "source": [
    "df = pd.read_hdf(input_path)"
   ],
   "outputs": [],
   "metadata": {}
  },
  {
   "cell_type": "code",
   "execution_count": 8,
   "source": [
    "#list(df.columns)"
   ],
   "outputs": [],
   "metadata": {}
  },
  {
   "cell_type": "code",
   "execution_count": 9,
   "source": [
    "keep_columns =[\n",
    "    'sample_nr',\n",
    "    'timestamp',\n",
    "    'actual_q_0', 'actual_q_1', 'actual_q_2', 'actual_q_3', 'actual_q_4', 'actual_q_5',\n",
    "    'actual_qd_0', 'actual_qd_1', 'actual_qd_2', 'actual_qd_3', 'actual_qd_4', 'actual_qd_5',\n",
    "    'actual_current_0', 'actual_current_1', 'actual_current_2', 'actual_current_3', 'actual_current_4', 'actual_current_5',\n",
    "    'actual_TCP_pose_0', 'actual_TCP_pose_1', 'actual_TCP_pose_2', 'actual_TCP_pose_3', 'actual_TCP_pose_4', 'actual_TCP_pose_5',\n",
    "    'actual_TCP_speed_0', 'actual_TCP_speed_1', 'actual_TCP_speed_2', 'actual_TCP_speed_3', 'actual_TCP_speed_4', 'actual_TCP_speed_5',\n",
    "    'actual_TCP_force_0', 'actual_TCP_force_1', 'actual_TCP_force_2', 'actual_TCP_force_3', 'actual_TCP_force_4', 'actual_TCP_force_5',\n",
    "    'actual_tool_accelerometer_0', 'actual_tool_accelerometer_1', 'actual_tool_accelerometer_2',\n",
    "    'actual_momentum',\n",
    "    'actual_main_voltage',\n",
    "    'actual_robot_voltage',\n",
    "    'actual_robot_current',\n",
    "    'actual_joint_voltage_0', 'actual_joint_voltage_1', 'actual_joint_voltage_2', 'actual_joint_voltage_3', 'actual_joint_voltage_4', 'actual_joint_voltage_5',\n",
    "    'output_int_register_25', 'output_int_register_26',\n",
    "    'output_double_register_25', # torque\n",
    "    'output_bit_register_64', 'output_bit_register_65', 'output_bit_register_66', 'output_bit_register_67',\n",
    "    'label']"
   ],
   "outputs": [],
   "metadata": {}
  },
  {
   "cell_type": "code",
   "execution_count": 10,
   "source": [
    "df = df[keep_columns]"
   ],
   "outputs": [],
   "metadata": {}
  },
  {
   "cell_type": "code",
   "execution_count": 11,
   "source": [
    "df.to_hdf(output_path, key=\"df\")"
   ],
   "outputs": [],
   "metadata": {}
  },
  {
   "cell_type": "code",
   "execution_count": null,
   "source": [],
   "outputs": [],
   "metadata": {}
  }
 ],
 "metadata": {
  "kernelspec": {
   "name": "python3",
   "display_name": "Python 3.8.10 64-bit ('m1tf': conda)"
  },
  "language_info": {
   "codemirror_mode": {
    "name": "ipython",
    "version": 3
   },
   "file_extension": ".py",
   "mimetype": "text/x-python",
   "name": "python",
   "nbconvert_exporter": "python",
   "pygments_lexer": "ipython3",
   "version": "3.8.10"
  },
  "interpreter": {
   "hash": "96ba8bdb9944f4077aea7f2f55699da4fa58fb876a32e9ef6c1a749faec584e6"
  }
 },
 "nbformat": 4,
 "nbformat_minor": 5
}