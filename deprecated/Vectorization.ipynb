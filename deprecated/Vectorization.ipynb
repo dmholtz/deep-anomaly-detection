{
 "cells": [
  {
   "cell_type": "markdown",
   "id": "5ae5bbfb",
   "metadata": {},
   "source": [
    "# Data Preparation - Vektorisierung\n",
    "Ziel dieses Jupyter Notebooks ist die Erstellung eines vektorisierten Datensatzes, der als Eingabe für das Machine Learning Modell genutzt werden kann.\n",
    "\n",
    "## Eingaben\n",
    "Externe Eingabe dieses Juypter Notebooks ist bereinigter `panda.Dataframe`, der aus einer .h5 Datei geladen wird. Weitere Eingabe werden im Abschnitt Parameter durch den Benutzer festgelegt.\n",
    "\n",
    "## Ausgabe\n",
    "Das Skript generiert die folgenden drei Dateien, die in einem gemeinsamen Unterverzeichnis abgelegt werden:\n",
    "* x.h5 : `numpy.array` - Rohdaten in Matrix Gestalt\n",
    "* y.h5 : `numpy.array` - Label zu den Beispielen\n",
    "* sample_nr.h5 : `numpy.array` - Samplenummer des Beispiels im ursprünglichen Dataframe an\n",
    "\n",
    "Während die Indizierung im übergebenen `pandas.Dataframe` per Samplenummer erfolgt, werden Beispiel in den Ausgaben per Index indiziert.\n",
    "\n",
    "### Rohdaten\n",
    "Die Rohdaten sind von der Gestalt `(n, t, f)` mit\n",
    "* n: Anzahl Beispiele\n",
    "* t: Anzahl Zeitpunkte\n",
    "* f: Anzahl Features\n",
    "\n",
    "Diese Nomenklatur entspricht der Eingabe Shape der rekurrenten Layer in der keras API."
   ]
  },
  {
   "cell_type": "code",
   "execution_count": 2,
   "id": "b1f815eb",
   "metadata": {},
   "outputs": [],
   "source": [
    "import os\n",
    "from pathlib import Path\n",
    "\n",
    "import numpy as np\n",
    "import pandas as pd\n",
    "import tensorflow as tf\n",
    "import scipy.ndimage\n",
    "import sklearn.preprocessing\n",
    "import matplotlib.pyplot as plt"
   ]
  },
  {
   "cell_type": "markdown",
   "id": "56a8c89d",
   "metadata": {},
   "source": [
    "## Pfad"
   ]
  },
  {
   "cell_type": "code",
   "execution_count": 3,
   "id": "0f7da68b",
   "metadata": {},
   "outputs": [],
   "source": [
    "dataframe_file = \"df_torque.h5\"\n",
    "output_folder= \"torque_l400_s2\"\n",
    "\n",
    "# get the working directory of the ipykernel\n",
    "working_dir = os.getcwd()\n",
    "\n",
    "# define subdirectories\n",
    "data_path = os.path.join(working_dir, \"data\")\n",
    "output_path = os.path.join(data_path, output_folder)\n",
    "source = os.path.join(data_path, dataframe_file)"
   ]
  },
  {
   "cell_type": "markdown",
   "id": "8c5d37a5",
   "metadata": {},
   "source": [
    "## Parameter\n",
    "\n",
    "### Metadaten\n",
    "\n",
    "### Variierende Sequenzlängen\n",
    "\n",
    "1. Ausschlusskriterien\n",
    "2. Cropping and Padding\n",
    "3. Uniform Scaling\n",
    "\n",
    "\n",
    "### Downsampling\n"
   ]
  },
  {
   "cell_type": "code",
   "execution_count": 4,
   "id": "c33bdcde",
   "metadata": {},
   "outputs": [],
   "source": [
    "\n",
    "# Compute a moving average using a window of width 'smoothing'\n",
    "smoothing = 2\n",
    "# Target length of the sequence after zooming and downspampling\n",
    "sequence_length = 400"
   ]
  },
  {
   "cell_type": "markdown",
   "id": "220daf2d",
   "metadata": {},
   "source": [
    "## Funktionen"
   ]
  },
  {
   "cell_type": "code",
   "execution_count": 5,
   "id": "f76b86fb",
   "metadata": {},
   "outputs": [],
   "source": [
    "def moving_average(array, window=2):\n",
    "    \"\"\"Compute the moving average by means of a discrete convolution\n",
    "    \n",
    "    As a result of computing the moving average, the lenght of the series\n",
    "    is reduced by window-1.\n",
    "    \"\"\"\n",
    "    if window < 1:\n",
    "        raise ValueError(\"Cannot compute a moving average for a window smaller than 1\")\n",
    "    return np.convolve(array, np.ones(window)/window, mode=\"valid\")\n",
    "\n",
    "def moving_average_vec(array, window):\n",
    "    \"\"\"Using grouped convolutions, compute the moving averages more efficiently.\n",
    "    Computes the moving average for each channel individually.\n",
    "    \n",
    "    Note: Currently not supported on M1 CPU\n",
    "    \n",
    "    Parameters\n",
    "    ----------\n",
    "    array : numpy.array\n",
    "        Array of equidistant timeseries of several channels: shape= [time x channels]\n",
    "    \"\"\"\n",
    "    \n",
    "    if window < 1:\n",
    "        raise ValueError(\"Cannot compute a moving average for a window smaller than 1\")\n",
    "    \n",
    "    assert len(array.shape) == 2\n",
    "    channels = array.shape[-1]\n",
    "    \n",
    "    # grouped 1D convolution\n",
    "    array = array.reshape(1,-1,channels)\n",
    "    return tf.nn.conv1d(array, filters=np.ones((window,1,channels)),stride=1,padding=\"VALID\")/window    \n",
    "\n",
    "def timeseries_scale(data, scaled_length):\n",
    "    \"\"\"Scales a timeseries uniformly along the time axis.\n",
    "    \n",
    "    \n",
    "    Parameters\n",
    "    ----------\n",
    "    data : numpy.array\n",
    "        A single timeseries of a batch of timeseries. The first dimension\n",
    "        of the numpy array corresponds to the time axis\n",
    "        \n",
    "    scaled_length : int\n",
    "        The output length > 0 of the timeseries.\n",
    "    \"\"\"  \n",
    "    \n",
    "    time_scale = scaled_length / data.shape[0]\n",
    "    \n",
    "    zoom = None\n",
    "    if len(data.shape) > 1:\n",
    "        zoom = (time_scale,1)\n",
    "    else:\n",
    "        zoom = (time_scale,)\n",
    "    \n",
    "    return scipy.ndimage.zoom(data, zoom, mode='nearest')\n",
    "\n",
    "def normalize_x(x):\n",
    "    for feature in range(x.shape[2]):\n",
    "        data = x[:,:,feature]\n",
    "        data = sklearn.preprocessing.normalize(data, axis=1, norm=\"max\")\n",
    "        x[:,:,feature] = data\n",
    "    return x"
   ]
  },
  {
   "cell_type": "markdown",
   "id": "b50afdd3",
   "metadata": {},
   "source": [
    "## Dataframe laden"
   ]
  },
  {
   "cell_type": "code",
   "execution_count": 6,
   "id": "29c7c47c",
   "metadata": {},
   "outputs": [
    {
     "data": {
      "text/html": [
       "<div>\n",
       "<style scoped>\n",
       "    .dataframe tbody tr th:only-of-type {\n",
       "        vertical-align: middle;\n",
       "    }\n",
       "\n",
       "    .dataframe tbody tr th {\n",
       "        vertical-align: top;\n",
       "    }\n",
       "\n",
       "    .dataframe thead th {\n",
       "        text-align: right;\n",
       "    }\n",
       "</style>\n",
       "<table border=\"1\" class=\"dataframe\">\n",
       "  <thead>\n",
       "    <tr style=\"text-align: right;\">\n",
       "      <th></th>\n",
       "      <th>screwdriver_torque</th>\n",
       "      <th>label</th>\n",
       "    </tr>\n",
       "    <tr>\n",
       "      <th>sample_nr</th>\n",
       "      <th></th>\n",
       "      <th></th>\n",
       "    </tr>\n",
       "  </thead>\n",
       "  <tbody>\n",
       "    <tr>\n",
       "      <th>2</th>\n",
       "      <td>0.061</td>\n",
       "      <td>0.0</td>\n",
       "    </tr>\n",
       "    <tr>\n",
       "      <th>2</th>\n",
       "      <td>0.061</td>\n",
       "      <td>0.0</td>\n",
       "    </tr>\n",
       "    <tr>\n",
       "      <th>2</th>\n",
       "      <td>0.061</td>\n",
       "      <td>0.0</td>\n",
       "    </tr>\n",
       "    <tr>\n",
       "      <th>2</th>\n",
       "      <td>0.061</td>\n",
       "      <td>0.0</td>\n",
       "    </tr>\n",
       "    <tr>\n",
       "      <th>2</th>\n",
       "      <td>0.061</td>\n",
       "      <td>0.0</td>\n",
       "    </tr>\n",
       "    <tr>\n",
       "      <th>...</th>\n",
       "      <td>...</td>\n",
       "      <td>...</td>\n",
       "    </tr>\n",
       "    <tr>\n",
       "      <th>4094</th>\n",
       "      <td>0.016</td>\n",
       "      <td>0.0</td>\n",
       "    </tr>\n",
       "    <tr>\n",
       "      <th>4094</th>\n",
       "      <td>0.016</td>\n",
       "      <td>0.0</td>\n",
       "    </tr>\n",
       "    <tr>\n",
       "      <th>4094</th>\n",
       "      <td>0.016</td>\n",
       "      <td>0.0</td>\n",
       "    </tr>\n",
       "    <tr>\n",
       "      <th>4094</th>\n",
       "      <td>0.016</td>\n",
       "      <td>0.0</td>\n",
       "    </tr>\n",
       "    <tr>\n",
       "      <th>4094</th>\n",
       "      <td>0.016</td>\n",
       "      <td>0.0</td>\n",
       "    </tr>\n",
       "  </tbody>\n",
       "</table>\n",
       "<p>3119891 rows × 2 columns</p>\n",
       "</div>"
      ],
      "text/plain": [
       "           screwdriver_torque  label\n",
       "sample_nr                           \n",
       "2                       0.061    0.0\n",
       "2                       0.061    0.0\n",
       "2                       0.061    0.0\n",
       "2                       0.061    0.0\n",
       "2                       0.061    0.0\n",
       "...                       ...    ...\n",
       "4094                    0.016    0.0\n",
       "4094                    0.016    0.0\n",
       "4094                    0.016    0.0\n",
       "4094                    0.016    0.0\n",
       "4094                    0.016    0.0\n",
       "\n",
       "[3119891 rows x 2 columns]"
      ]
     },
     "execution_count": 6,
     "metadata": {},
     "output_type": "execute_result"
    }
   ],
   "source": [
    "# Read the pandas.Dataframe\n",
    "df = pd.read_hdf(source)\n",
    "df"
   ]
  },
  {
   "cell_type": "markdown",
   "id": "9e1bcbbd",
   "metadata": {},
   "source": [
    "### Shapes\n",
    "Ermittle die shape der Ausgabeartefakte:"
   ]
  },
  {
   "cell_type": "code",
   "execution_count": 7,
   "id": "cd8b4a3e",
   "metadata": {},
   "outputs": [],
   "source": [
    "# number of samples\n",
    "num_samples = len(df.groupby(level=0).size())\n",
    "\n",
    "# timeseries length\n",
    "num_timesteps = sequence_length\n",
    "\n",
    "# number of features\n",
    "# only vectorize columns with numeric (non-boolean) values\n",
    "column_names = list(col_name for col_name in df.columns if df[col_name].dtype != bool)\n",
    "column_names.remove(\"label\")\n",
    "num_features = len(column_names)\n",
    "\n",
    "x_shape = (num_samples, num_timesteps, num_features)"
   ]
  },
  {
   "cell_type": "markdown",
   "id": "7e56c5b1",
   "metadata": {},
   "source": [
    "### Ausgabeartefakte\n",
    "Liest zunächst die Daten x sowie die zugehörigen Labels."
   ]
  },
  {
   "cell_type": "code",
   "execution_count": 8,
   "id": "b0f66c1a",
   "metadata": {},
   "outputs": [],
   "source": [
    "# labels\n",
    "y = df.groupby(level=0).aggregate({\"label\": lambda x: x.iloc[0]}).to_numpy().reshape(-1)\n",
    "\n",
    "# data x\n",
    "x = np.zeros(x_shape)\n",
    "for i, (_, sample_df) in enumerate(df.groupby(level=0)):\n",
    "    \n",
    "    raw = sample_df[column_names].to_numpy()\n",
    "    smoothed = np.zeros((raw.shape[0]-smoothing+1, raw.shape[1]))\n",
    "    \n",
    "    # smoothing the timeseries\n",
    "    for j in range(num_features):\n",
    "        # TODO: replace the for-loop once grouped convolutions are supported\n",
    "        smoothed[:,j] = moving_average(raw[:,j], window=smoothing)\n",
    "        \n",
    "    # optional: do some padding and cropping here\n",
    "        \n",
    "    # downsampling\n",
    "    downsampled = timeseries_scale(smoothed, num_timesteps)\n",
    "    \n",
    "    x[i, :, :] = downsampled\n",
    "    \n",
    "x = normalize_x(x)\n",
    "\n",
    "sample_nr_df = df.drop(columns=df.columns)\n",
    "sample_nr_df.reset_index(inplace=True)\n",
    "sample_nr = sample_nr_df.groupby([\"sample_nr\"]).aggregate({\"sample_nr\": lambda x: x.iloc[0]}).to_numpy().reshape(-1)"
   ]
  },
  {
   "cell_type": "code",
   "execution_count": 9,
   "id": "7ebc248b",
   "metadata": {},
   "outputs": [],
   "source": [
    "Path(output_path).mkdir(parents=True, exist_ok=True)\n",
    "\n",
    "np.save(os.path.join(output_path, \"x.npy\"), x)\n",
    "np.save(os.path.join(output_path, \"y.npy\"), y)\n",
    "np.save(os.path.join(output_path, \"sample_nr.npy\"), sample_nr)"
   ]
  },
  {
   "cell_type": "code",
   "execution_count": 10,
   "id": "eeeafa5c",
   "metadata": {},
   "outputs": [
    {
     "data": {
      "text/html": [
       "<div>\n",
       "<style scoped>\n",
       "    .dataframe tbody tr th:only-of-type {\n",
       "        vertical-align: middle;\n",
       "    }\n",
       "\n",
       "    .dataframe tbody tr th {\n",
       "        vertical-align: top;\n",
       "    }\n",
       "\n",
       "    .dataframe thead th {\n",
       "        text-align: right;\n",
       "    }\n",
       "</style>\n",
       "<table border=\"1\" class=\"dataframe\">\n",
       "  <thead>\n",
       "    <tr style=\"text-align: right;\">\n",
       "      <th></th>\n",
       "      <th>screwdriver_torque</th>\n",
       "      <th>label</th>\n",
       "    </tr>\n",
       "    <tr>\n",
       "      <th>sample_nr</th>\n",
       "      <th></th>\n",
       "      <th></th>\n",
       "    </tr>\n",
       "  </thead>\n",
       "  <tbody>\n",
       "    <tr>\n",
       "      <th>2</th>\n",
       "      <td>0.061</td>\n",
       "      <td>0.0</td>\n",
       "    </tr>\n",
       "    <tr>\n",
       "      <th>2</th>\n",
       "      <td>0.061</td>\n",
       "      <td>0.0</td>\n",
       "    </tr>\n",
       "    <tr>\n",
       "      <th>2</th>\n",
       "      <td>0.061</td>\n",
       "      <td>0.0</td>\n",
       "    </tr>\n",
       "    <tr>\n",
       "      <th>2</th>\n",
       "      <td>0.061</td>\n",
       "      <td>0.0</td>\n",
       "    </tr>\n",
       "    <tr>\n",
       "      <th>2</th>\n",
       "      <td>0.061</td>\n",
       "      <td>0.0</td>\n",
       "    </tr>\n",
       "    <tr>\n",
       "      <th>...</th>\n",
       "      <td>...</td>\n",
       "      <td>...</td>\n",
       "    </tr>\n",
       "    <tr>\n",
       "      <th>4094</th>\n",
       "      <td>0.016</td>\n",
       "      <td>0.0</td>\n",
       "    </tr>\n",
       "    <tr>\n",
       "      <th>4094</th>\n",
       "      <td>0.016</td>\n",
       "      <td>0.0</td>\n",
       "    </tr>\n",
       "    <tr>\n",
       "      <th>4094</th>\n",
       "      <td>0.016</td>\n",
       "      <td>0.0</td>\n",
       "    </tr>\n",
       "    <tr>\n",
       "      <th>4094</th>\n",
       "      <td>0.016</td>\n",
       "      <td>0.0</td>\n",
       "    </tr>\n",
       "    <tr>\n",
       "      <th>4094</th>\n",
       "      <td>0.016</td>\n",
       "      <td>0.0</td>\n",
       "    </tr>\n",
       "  </tbody>\n",
       "</table>\n",
       "<p>3119891 rows × 2 columns</p>\n",
       "</div>"
      ],
      "text/plain": [
       "           screwdriver_torque  label\n",
       "sample_nr                           \n",
       "2                       0.061    0.0\n",
       "2                       0.061    0.0\n",
       "2                       0.061    0.0\n",
       "2                       0.061    0.0\n",
       "2                       0.061    0.0\n",
       "...                       ...    ...\n",
       "4094                    0.016    0.0\n",
       "4094                    0.016    0.0\n",
       "4094                    0.016    0.0\n",
       "4094                    0.016    0.0\n",
       "4094                    0.016    0.0\n",
       "\n",
       "[3119891 rows x 2 columns]"
      ]
     },
     "execution_count": 10,
     "metadata": {},
     "output_type": "execute_result"
    }
   ],
   "source": [
    "x.shape\n",
    "df"
   ]
  },
  {
   "cell_type": "code",
   "execution_count": 11,
   "id": "3c3481cc",
   "metadata": {},
   "outputs": [
    {
     "data": {
      "image/png": "[encoded data removed]",
      "text/plain": [
       "<Figure size 432x288 with 1 Axes>"
      ]
     },
     "metadata": {
      "needs_background": "light"
     },
     "output_type": "display_data"
    }
   ],
   "source": [
    "import sklearn.preprocessing\n",
    "\n",
    "d = np.array([3*np.sin(np.linspace(0,2*np.pi,100)), np.cos(np.linspace(0,2*np.pi,100))])\n",
    "#d = d.reshape((d.shape)+(1,))\n",
    "plt.plot(d[0,:])\n",
    "plt.plot(d[1,:])\n",
    "plt.show()"
   ]
  },
  {
   "cell_type": "code",
   "execution_count": 12,
   "id": "a1694550",
   "metadata": {},
   "outputs": [
    {
     "data": {
      "image/png": "[encoded data removed]",
      "text/plain": [
       "<Figure size 432x288 with 1 Axes>"
      ]
     },
     "metadata": {
      "needs_background": "light"
     },
     "output_type": "display_data"
    }
   ],
   "source": [
    "dn = sklearn.preprocessing.normalize(d, axis=1, norm=\"max\")\n",
    "plt.plot(dn[0,:])\n",
    "plt.plot(dn[1,:])\n",
    "plt.show()"
   ]
  },
  {
   "cell_type": "code",
   "execution_count": null,
   "id": "ed1f77d5",
   "metadata": {},
   "outputs": [],
   "source": [
    "from sklearn.preprocessing import MinMaxScaler\n",
    "\n",
    "scaler = MinMaxScaler()\n",
    "data = np.a"
   ]
  }
 ],
 "metadata": {
  "kernelspec": {
   "display_name": "Python 3 (ipykernel)",
   "language": "python",
   "name": "python3"
  },
  "language_info": {
   "codemirror_mode": {
    "name": "ipython",
    "version": 3
   },
   "file_extension": ".py",
   "mimetype": "text/x-python",
   "name": "python",
   "nbconvert_exporter": "python",
   "pygments_lexer": "ipython3",
   "version": "3.8.10"
  }
 },
 "nbformat": 4,
 "nbformat_minor": 5
}
